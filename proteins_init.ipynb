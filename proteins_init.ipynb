{
 "cells": [
  {
   "cell_type": "code",
   "execution_count": null,
   "metadata": {},
   "outputs": [],
   "source": [
    "\"\"\"Basic script for loading the PROTEINS dataset and running training scrip with it.\n",
    "To run it install pytorch for your OS and config from https://pytorch.org/get-started/locally/\n",
    "and install PyG https://pytorch-geometric.readthedocs.io/en/latest/notes/installation.html\"\"\""
   ]
  },
  {
   "cell_type": "code",
   "execution_count": 1,
   "metadata": {},
   "outputs": [],
   "source": [
    "\"\"\"Imports\"\"\"\n",
    "import torch\n",
    "import torch.nn.functional as F\n",
    "from torch_geometric.nn import global_mean_pool\n",
    "from torch_geometric.loader import DataLoader\n",
    "from torch_geometric.datasets import TUDataset\n",
    "from torch_geometric.nn import GCNConv\n",
    "from torch.nn import BCELoss"
   ]
  },
  {
   "cell_type": "code",
   "execution_count": 2,
   "metadata": {},
   "outputs": [],
   "source": [
    "\"\"\"Load the data, wrap it around DataLoader (utility that acts as batch generator).\n",
    "Train/val split is done arbitrarely. This dataset does not contain edge features. Only \n",
    "Node features, edges and graph label.\"\"\"\n",
    "dataset_raw = TUDataset(root='',name='PROTEINS',use_node_attr =True,use_edge_attr=True)\n",
    "train_ds = DataLoader(dataset_raw[:1000],batch_size=32,shuffle=True)\n",
    "val_ds = DataLoader(dataset_raw[1000:],batch_size=32)"
   ]
  },
  {
   "cell_type": "code",
   "execution_count": 3,
   "metadata": {},
   "outputs": [],
   "source": [
    "class GCN(torch.nn.Module):\n",
    "    \"\"\"Create GCN module. It is a neural network that accepts graphs of varying shapes as input, and returns \n",
    "    the label of a given graph (molecule or not). It is based on classic GCNConv, other methods has to be applied here.\"\"\"\n",
    "    def __init__(self,n_node_features,hidden_dim):\n",
    "        super().__init__()\n",
    "        self.conv1 = GCNConv(n_node_features, hidden_dim)\n",
    "        self.conv2 = GCNConv(hidden_dim, hidden_dim)\n",
    "        self.linear1 = torch.nn.Linear(hidden_dim,1)\n",
    "    def forward(self, data):\n",
    "        x, edge_index, batch_size = data.x, data.edge_index, data.batch\n",
    "        x = self.conv1(x, edge_index)\n",
    "        x = F.relu(x)\n",
    "        x = self.conv2(x, edge_index)\n",
    "        x = global_mean_pool(x,batch_size)\n",
    "        x = self.linear1(x)\n",
    "        out = torch.sigmoid(x)\n",
    "        return torch.squeeze(out)"
   ]
  },
  {
   "cell_type": "code",
   "execution_count": null,
   "metadata": {},
   "outputs": [],
   "source": [
    "\"\"\"Initializing the network and optimizer. For debugging purposes the network runs on CPU.\"\"\"\n",
    "device = torch.device('cpu')\n",
    "model = GCN(dataset_raw.num_node_features,16).to(device)\n",
    "optimizer = torch.optim.Adam(model.parameters(), lr=0.001)"
   ]
  },
  {
   "cell_type": "code",
   "execution_count": null,
   "metadata": {},
   "outputs": [],
   "source": [
    "\"\"\"Train the model on the training data. Parameters are updated per batch.\n",
    "WARNING! For batch size of 1 user probably will need to torch.squeeze data.y\"\"\"\n",
    "model.train()\n",
    "\n",
    "for epoch in range(1000):\n",
    "    epoch_loss = 0.0\n",
    "    for data in train_ds:\n",
    "        optimizer.zero_grad()\n",
    "        out = model(data)\n",
    "        loss = BCELoss()(out, data.y.to(torch.float32))\n",
    "        epoch_loss += loss\n",
    "        loss.backward()\n",
    "        optimizer.step()\n",
    "    print(f\"Epoch {epoch}, loss: {epoch_loss.detach().numpy()}\")"
   ]
  }
 ],
 "metadata": {
  "kernelspec": {
   "display_name": "Python 3.9.12 ('CyfroML')",
   "language": "python",
   "name": "python3"
  },
  "language_info": {
   "codemirror_mode": {
    "name": "ipython",
    "version": 3
   },
   "file_extension": ".py",
   "mimetype": "text/x-python",
   "name": "python",
   "nbconvert_exporter": "python",
   "pygments_lexer": "ipython3",
   "version": "3.9.12"
  },
  "orig_nbformat": 4,
  "vscode": {
   "interpreter": {
    "hash": "23bb462f369faf32515ef68bcf08a22f46ef4bd3e7610215b17cb366918e9729"
   }
  }
 },
 "nbformat": 4,
 "nbformat_minor": 2
}
